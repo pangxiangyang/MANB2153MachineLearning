{
 "cells": [
  {
   "cell_type": "markdown",
   "metadata": {},
   "source": [
    "# List a few definitions of Machine Learning, and examples of application. Write in paragraphs at Jupyter Notebook"
   ]
  },
  {
   "cell_type": "markdown",
   "metadata": {},
   "source": [
    "## Machine learning definitions\n",
    "1. Machine learning can be described as mathematic algorithm that build on top of a mathematical model of training data, and able to generate output, in the form of predictions / decision without being explicitly programmed.\n",
    "\n",
    "*Reference: The definition \"without being explicitly programmed\" is often attributed to Arthur Samuel, who coined the term \"machine learning\" in 1959, but the phrase is not found verbatim in this publication, and may be a paraphrase that appeared later. Confer \"Paraphrasing Arthur Samuel (1959), the question is: How can computers learn to solve problems without being explicitly programmed?\" in Koza, John R.; Bennett, Forrest H.; Andre, David; Keane, Martin A. (1996). Automated Design of Both the Topology and Sizing of Analog Electrical Circuits Using Genetic Programming. Artificial Intelligence in Design '96. Springer, Dordrecht. pp. 151–170. doi:10.1007/978-94-009-0279-4_9.*\n",
    "\n",
    "2. Machine learning is the science of getting computers to learn, to adapt into new information and react against it like humans do. The learning will be improved over the time by completed automatically, by constantly provide new information and data.\n",
    "\n",
    "*Reference: https://emerj.com/ai-glossary-terms/what-is-machine-learning/\n",
    "\n",
    "3. Machine learning is a set of algorithm that can identify and figure out the appropriate reaction / ouput based from general examples.\n",
    "\n",
    "*Reference https://homes.cs.washington.edu/~pedrod/papers/cacm12.pdf*\n"
   ]
  },
  {
   "cell_type": "markdown",
   "metadata": {},
   "source": [
    "## Machine learning applications\n",
    "1. **Fraud detection in Grab** : There is proprietary machine learning algorithm running behind the apps to prevent any fraud.\n",
    "Any abnormal behaviour will be identified and action will be taken. The idea behind the machine learning is to prevent the fraud from happening. \n",
    "\n",
    "*Reference_: https://www.grab.com/sg/blog/why-anti-fraud-technology-is-the-secret-sauce-to-winning-ride-hailing-platforms/*\n",
    "\n",
    "2. **Time series prediction** : One of the most commonly applications are the time series prediction. It can be in a form of predictive analytics to predict the outcome at future, based on historical data. The real life application included stock price predictions, commodities price prediction, suppply / inventory level prediction, demand planning and etc.\n",
    "\n",
    "*Reference: \n",
    "i)  Forecasting copper prices by decision tree learning\n",
    "    C Liu, Z Hu, Y Li, S Liu - Resources Policy, 2017\n",
    "ii) Stock market prediction with multiple classifiers\n",
    "    B Qian, K Rasheed - Applied Intelligence, 2007\n",
    "iii) Application of machine learning techniques for supply chain demand forecasting\n",
    "R Carbonneau, K Laframboise, R Vahidov -European Journal of Operational Research\n",
    "Volume 184, Issue 3, 1 February 2008, Pages 1140-115_*\n",
    "\n",
    "3. Artificial Intelligence ETF : ETF or exchange-traded-fund is a financial productthat consists that tracks commodities, stock index, or a basket of assets, which tradisionally managed by fund manager. However, there are alot of new ETF that completly managed by AI recently due to the AI technology advancement. The biggest advance of AI-managed ETF over the human is that decision making of AI is not affected by emotions, or fear of losses, which mean all the decision made is purely based on available information.\n",
    "\n",
    "*Reference:\n",
    "i)   https://www.investors.com/etfs-and-funds/etfs/ai-powered-stocks-internet-giants-new-etfs/\n",
    "ii)  https://business.financialpost.com/investing/funds/heres-ai-managed-etfs-big-secret-they-have-an-investing-mind-of-their-own"
   ]
  },
  {
   "cell_type": "code",
   "execution_count": null,
   "metadata": {},
   "outputs": [],
   "source": []
  }
 ],
 "metadata": {
  "kernelspec": {
   "display_name": "Python 3",
   "language": "python",
   "name": "python3"
  },
  "language_info": {
   "codemirror_mode": {
    "name": "ipython",
    "version": 3
   },
   "file_extension": ".py",
   "mimetype": "text/x-python",
   "name": "python",
   "nbconvert_exporter": "python",
   "pygments_lexer": "ipython3",
   "version": "3.7.1"
  }
 },
 "nbformat": 4,
 "nbformat_minor": 2
}
